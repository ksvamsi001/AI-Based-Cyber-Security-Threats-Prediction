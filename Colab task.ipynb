{
  "nbformat": 4,
  "nbformat_minor": 0,
  "metadata": {
    "colab": {
      "provenance": []
    },
    "kernelspec": {
      "name": "python3",
      "display_name": "Python 3"
    },
    "language_info": {
      "name": "python"
    }
  },
  "cells": [
    {
      "cell_type": "code",
      "metadata": {
        "colab": {
          "base_uri": "https://localhost:8080/",
          "height": 0
        },
        "id": "500da56b",
        "outputId": "b370af90-a7e5-4674-b829-3104ed327db3"
      },
      "source": [
        "# Reverse a string\n",
        "s = \"hello\"\n",
        "print(s[::-1])  # Reverses the string using slicing"
      ],
      "execution_count": 1,
      "outputs": [
        {
          "output_type": "stream",
          "name": "stdout",
          "text": [
            "olleh\n"
          ]
        }
      ]
    },
    {
      "cell_type": "code",
      "metadata": {
        "colab": {
          "base_uri": "https://localhost:8080/",
          "height": 0
        },
        "id": "09335a14",
        "outputId": "abbf78c9-6723-4aa8-db73-e8aa59a86f96"
      },
      "source": [
        "# Check if a string is a palindrome\n",
        "s = \"madam\"\n",
        "print(s == s[::-1])  # Returns True if the string reads the same backward"
      ],
      "execution_count": 2,
      "outputs": [
        {
          "output_type": "stream",
          "name": "stdout",
          "text": [
            "True\n"
          ]
        }
      ]
    },
    {
      "cell_type": "code",
      "metadata": {
        "colab": {
          "base_uri": "https://localhost:8080/",
          "height": 0
        },
        "id": "447db6ad",
        "outputId": "522d7596-4235-49e3-9ac7-694c263701a5"
      },
      "source": [
        "# Count vowels in a string\n",
        "s = \"beautiful\"\n",
        "vowels = \"aeiou\"\n",
        "count = sum(1 for ch in s if ch.lower() in vowels)\n",
        "print(count)  # Counts how many vowels are in the string"
      ],
      "execution_count": 3,
      "outputs": [
        {
          "output_type": "stream",
          "name": "stdout",
          "text": [
            "5\n"
          ]
        }
      ]
    },
    {
      "cell_type": "code",
      "metadata": {
        "colab": {
          "base_uri": "https://localhost:8080/",
          "height": 0
        },
        "id": "c1e69d7b",
        "outputId": "865a26fb-eb17-4d8d-d182-65ed21560c02"
      },
      "source": [
        "# Find factorial of a number (using recursion)\n",
        "def factorial(n):\n",
        "    return 1 if n == 0 else n * factorial(n - 1)\n",
        "print(factorial(5))  # Returns 120"
      ],
      "execution_count": 4,
      "outputs": [
        {
          "output_type": "stream",
          "name": "stdout",
          "text": [
            "120\n"
          ]
        }
      ]
    },
    {
      "cell_type": "code",
      "metadata": {
        "colab": {
          "base_uri": "https://localhost:8080/",
          "height": 0
        },
        "id": "33657ff6",
        "outputId": "3160fbec-9312-4532-e2f7-80fd1fbe9741"
      },
      "source": [
        "# Check if a number is prime\n",
        "n = 13\n",
        "is_prime = all(n % i != 0 for i in range(2, int(n**0.5) + 1))\n",
        "print(is_prime)  # True if prime"
      ],
      "execution_count": 5,
      "outputs": [
        {
          "output_type": "stream",
          "name": "stdout",
          "text": [
            "True\n"
          ]
        }
      ]
    },
    {
      "cell_type": "code",
      "metadata": {
        "colab": {
          "base_uri": "https://localhost:8080/",
          "height": 0
        },
        "id": "4e357a02",
        "outputId": "5addfd14-aded-49d9-9118-b09d9d8728bb"
      },
      "source": [
        "# Fibonacci sequence (first n terms)\n",
        "n = 10\n",
        "a, b = 0, 1\n",
        "for _ in range(n):\n",
        "    print(a, end=\" \")\n",
        "    a, b = b, a + b  # Generates next Fibonacci number"
      ],
      "execution_count": 6,
      "outputs": [
        {
          "output_type": "stream",
          "name": "stdout",
          "text": [
            "0 1 1 2 3 5 8 13 21 34 "
          ]
        }
      ]
    },
    {
      "cell_type": "code",
      "metadata": {
        "colab": {
          "base_uri": "https://localhost:8080/",
          "height": 0
        },
        "id": "a6d5839f",
        "outputId": "b67ff949-c779-46c0-d470-5a832cea166a"
      },
      "source": [
        "# Find maximum and minimum in a list\n",
        "nums = [4, 7, 2, 9, 1]\n",
        "print(max(nums), min(nums))  # Prints highest and lowest values"
      ],
      "execution_count": 7,
      "outputs": [
        {
          "output_type": "stream",
          "name": "stdout",
          "text": [
            "9 1\n"
          ]
        }
      ]
    },
    {
      "cell_type": "code",
      "metadata": {
        "colab": {
          "base_uri": "https://localhost:8080/",
          "height": 0
        },
        "id": "1579d755",
        "outputId": "881864a0-853a-44de-e17b-cc42dc002db8"
      },
      "source": [
        "# Remove duplicates from a list\n",
        "nums = [1, 2, 2, 3, 4, 4]\n",
        "print(list(set(nums)))  # Converts to set to remove duplicates"
      ],
      "execution_count": 8,
      "outputs": [
        {
          "output_type": "stream",
          "name": "stdout",
          "text": [
            "[1, 2, 3, 4]\n"
          ]
        }
      ]
    },
    {
      "cell_type": "code",
      "metadata": {
        "colab": {
          "base_uri": "https://localhost:8080/",
          "height": 0
        },
        "id": "7b8cf18f",
        "outputId": "d1d68d6e-a568-4793-d6ae-84d95efff5cf"
      },
      "source": [
        "# Count frequency of elements in a list\n",
        "from collections import Counter\n",
        "nums = [1, 2, 2, 3, 3, 3]\n",
        "print(Counter(nums))  # Shows count of each unique number"
      ],
      "execution_count": 9,
      "outputs": [
        {
          "output_type": "stream",
          "name": "stdout",
          "text": [
            "Counter({3: 3, 2: 2, 1: 1})\n"
          ]
        }
      ]
    },
    {
      "cell_type": "code",
      "metadata": {
        "colab": {
          "base_uri": "https://localhost:8080/",
          "height": 0
        },
        "id": "8ba05031",
        "outputId": "46df841e-300f-429b-99df-cf5dbc86c0fe"
      },
      "source": [
        "# Check if two strings are anagrams\n",
        "s1, s2 = \"listen\", \"silent\"\n",
        "print(sorted(s1) == sorted(s2))  # True if both contain same letters"
      ],
      "execution_count": 10,
      "outputs": [
        {
          "output_type": "stream",
          "name": "stdout",
          "text": [
            "True\n"
          ]
        }
      ]
    },
    {
      "cell_type": "code",
      "metadata": {
        "colab": {
          "base_uri": "https://localhost:8080/",
          "height": 0
        },
        "id": "8b3acbd4",
        "outputId": "cc0d7832-f128-434d-f3a0-04facac1c488"
      },
      "source": [
        "# Find second largest number in a list\n",
        "nums = [4, 10, 9, 2]\n",
        "print(sorted(set(nums))[-2])  # Removes duplicates and gets 2nd last"
      ],
      "execution_count": 11,
      "outputs": [
        {
          "output_type": "stream",
          "name": "stdout",
          "text": [
            "9\n"
          ]
        }
      ]
    },
    {
      "cell_type": "code",
      "metadata": {
        "colab": {
          "base_uri": "https://localhost:8080/",
          "height": 0
        },
        "id": "5cc63cad",
        "outputId": "eda9fdc9-4b06-40ec-9f5a-df1e8f0428df"
      },
      "source": [
        "# Sum of digits of a number\n",
        "n = 1234\n",
        "print(sum(int(d) for d in str(n)))  # Adds each digit"
      ],
      "execution_count": 12,
      "outputs": [
        {
          "output_type": "stream",
          "name": "stdout",
          "text": [
            "10\n"
          ]
        }
      ]
    },
    {
      "cell_type": "code",
      "metadata": {
        "colab": {
          "base_uri": "https://localhost:8080/",
          "height": 0
        },
        "id": "769ce081",
        "outputId": "0f77f866-1b5c-4fdb-8c8a-2da23a3b2b9d"
      },
      "source": [
        "# List comprehension example (squares of even numbers)\n",
        "nums = [1, 2, 3, 4, 5]\n",
        "print([x**2 for x in nums if x % 2 == 0])  # Efficient filtering + transformation"
      ],
      "execution_count": 13,
      "outputs": [
        {
          "output_type": "stream",
          "name": "stdout",
          "text": [
            "[4, 16]\n"
          ]
        }
      ]
    },
    {
      "cell_type": "code",
      "metadata": {
        "colab": {
          "base_uri": "https://localhost:8080/",
          "height": 0
        },
        "id": "9d21d4e4",
        "outputId": "4a97b13e-64ec-43f8-f06b-a8fafd529a93"
      },
      "source": [
        "# File read & write\n",
        "with open(\"test.txt\", \"w\") as f:\n",
        "    f.write(\"Hello, world!\")  # Writes text into file\n",
        "with open(\"test.txt\", \"r\") as f:\n",
        "    print(f.read())  # Reads and prints content"
      ],
      "execution_count": 14,
      "outputs": [
        {
          "output_type": "stream",
          "name": "stdout",
          "text": [
            "Hello, world!\n"
          ]
        }
      ]
    },
    {
      "cell_type": "code",
      "metadata": {
        "colab": {
          "base_uri": "https://localhost:8080/",
          "height": 0
        },
        "id": "5dc0d84b",
        "outputId": "8a6b0dcb-79c8-4604-e9d4-e8d35fd22f58"
      },
      "source": [
        "# Exception handling\n",
        "try:\n",
        "    x = 10 / 0\n",
        "except ZeroDivisionError:\n",
        "    print(\"Division by zero is not allowed.\")  # Prevents program crash"
      ],
      "execution_count": 15,
      "outputs": [
        {
          "output_type": "stream",
          "name": "stdout",
          "text": [
            "Division by zero is not allowed.\n"
          ]
        }
      ]
    },
    {
      "cell_type": "code",
      "metadata": {
        "colab": {
          "base_uri": "https://localhost:8080/",
          "height": 0
        },
        "id": "1e70c436",
        "outputId": "755d40b4-7110-42ea-8295-d45a04c4dd2c"
      },
      "source": [
        "# Lambda and map\n",
        "nums = [1, 2, 3, 4]\n",
        "print(list(map(lambda x: x**2, nums)))  # Applies function to each item"
      ],
      "execution_count": 16,
      "outputs": [
        {
          "output_type": "stream",
          "name": "stdout",
          "text": [
            "[1, 4, 9, 16]\n"
          ]
        }
      ]
    },
    {
      "cell_type": "code",
      "metadata": {
        "colab": {
          "base_uri": "https://localhost:8080/",
          "height": 0
        },
        "id": "75f8fa7c",
        "outputId": "114bb70a-a18f-4020-d745-871097cb4af9"
      },
      "source": [
        "# Class & Object basics\n",
        "class Person:\n",
        "    def __init__(self, name):\n",
        "        self.name = name  # Constructor initialization\n",
        "    def greet(self):\n",
        "        return f\"Hello, {self.name}\"\n",
        "\n",
        "p = Person(\"Vamsi\")\n",
        "print(p.greet())  # Object method call"
      ],
      "execution_count": 17,
      "outputs": [
        {
          "output_type": "stream",
          "name": "stdout",
          "text": [
            "Hello, Vamsi\n"
          ]
        }
      ]
    },
    {
      "cell_type": "code",
      "metadata": {
        "colab": {
          "base_uri": "https://localhost:8080/",
          "height": 0
        },
        "id": "350d7b03",
        "outputId": "aaadc151-5cc6-48d8-ee85-db852cc9f0ef"
      },
      "source": [
        "# Dictionary sorting by value\n",
        "d = {\"a\": 3, \"b\": 1, \"c\": 2}\n",
        "print(sorted(d.items(), key=lambda x: x[1]))  # Sorts dict by value"
      ],
      "execution_count": 18,
      "outputs": [
        {
          "output_type": "stream",
          "name": "stdout",
          "text": [
            "[('b', 1), ('c', 2), ('a', 3)]\n"
          ]
        }
      ]
    },
    {
      "cell_type": "code",
      "metadata": {
        "colab": {
          "base_uri": "https://localhost:8080/",
          "height": 0
        },
        "id": "b5ee36eb",
        "outputId": "f60eab87-8c8d-47b7-b9c3-e3bbafdc73c7"
      },
      "source": [
        "# List flattening\n",
        "nested = [[1, 2], [3, 4], [5]]\n",
        "flat = [num for sublist in nested for num in sublist]\n",
        "print(flat)  # [1, 2, 3, 4, 5]"
      ],
      "execution_count": 19,
      "outputs": [
        {
          "output_type": "stream",
          "name": "stdout",
          "text": [
            "[1, 2, 3, 4, 5]\n"
          ]
        }
      ]
    },
    {
      "cell_type": "code",
      "metadata": {
        "colab": {
          "base_uri": "https://localhost:8080/",
          "height": 0
        },
        "id": "cd547074",
        "outputId": "e8845ee6-6981-4b3f-e647-e42fd3c5bf2a"
      },
      "source": [
        "# Using enumerate to loop with index\n",
        "for i, val in enumerate([\"apple\", \"banana\", \"cherry\"]):\n",
        "    print(i, val)  # Prints index and value"
      ],
      "execution_count": 20,
      "outputs": [
        {
          "output_type": "stream",
          "name": "stdout",
          "text": [
            "0 apple\n",
            "1 banana\n",
            "2 cherry\n"
          ]
        }
      ]
    }
  ]
}